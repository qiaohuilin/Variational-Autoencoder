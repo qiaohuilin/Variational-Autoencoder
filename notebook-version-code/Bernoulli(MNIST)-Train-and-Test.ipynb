{
 "cells": [
  {
   "cell_type": "code",
   "execution_count": 1,
   "metadata": {},
   "outputs": [],
   "source": [
    "%matplotlib inline\n",
    "import matplotlib.pyplot as plt\n",
    "import numpy as np\n",
    "import sklearn.preprocessing\n",
    "import sklearn.neural_network"
   ]
  },
  {
   "cell_type": "code",
   "execution_count": 2,
   "metadata": {},
   "outputs": [],
   "source": [
    "import warnings\n",
    "warnings.simplefilter(action='ignore', category=FutureWarning)\n",
    "import h5py\n",
    "warnings.resetwarnings()\n",
    "warnings.simplefilter(action='ignore', category=ImportWarning)\n",
    "warnings.simplefilter(action='ignore', category=RuntimeWarning)\n",
    "warnings.simplefilter(action='ignore', category=DeprecationWarning)\n",
    "warnings.simplefilter(action='ignore', category=ResourceWarning)"
   ]
  },
  {
   "cell_type": "code",
   "execution_count": 3,
   "metadata": {},
   "outputs": [
    {
     "name": "stderr",
     "output_type": "stream",
     "text": [
      "WARNING (theano.configdefaults): install mkl with `conda install mkl-service`: No module named 'mkl'\n"
     ]
    }
   ],
   "source": [
    "import theano\n",
    "import theano.tensor as T"
   ]
  },
  {
   "cell_type": "code",
   "execution_count": 4,
   "metadata": {},
   "outputs": [],
   "source": [
    "def sgd(cost, params, lr=0.001, epsilon=1e-6):\n",
    "    grads = T.grad(cost=cost, wrt=params)\n",
    "    updates = []\n",
    "    for p, g in zip(params, grads):\n",
    "        updates.append((p, p - lr * g))\n",
    "    return updates"
   ]
  },
  {
   "cell_type": "code",
   "execution_count": 5,
   "metadata": {},
   "outputs": [],
   "source": [
    "def sgd_momentum(cost, params, lr=0.001, beta=0.9,epsilon=1e-6):  #no bias correction\n",
    "    grads = T.grad(cost=cost, wrt=params)\n",
    "    updates = []\n",
    "    for p, g in zip(params, grads):\n",
    "        v= theano.shared(p.get_value() * 0.)\n",
    "        vc= beta*v + (1-beta)*g\n",
    "        updates.append((v,vc))\n",
    "        updates.append((p, p - lr * vc))\n",
    "    return updates"
   ]
  },
  {
   "cell_type": "code",
   "execution_count": 6,
   "metadata": {},
   "outputs": [],
   "source": [
    "def adagrad(cost, params, lr=0.001, epsilon=1e-6):\n",
    "    grads = T.grad(cost=cost, wrt=params)\n",
    "    updates = []\n",
    "    for p, g in zip(params, grads):\n",
    "        acc = theano.shared(p.get_value() * 0.)\n",
    "        acc_new = acc + g ** 2\n",
    "        gradient_scaling = T.sqrt(acc_new + epsilon)\n",
    "        g = g / gradient_scaling\n",
    "        updates.append((acc, acc_new))\n",
    "        updates.append((p, p - lr * g))\n",
    "    return updates"
   ]
  },
  {
   "cell_type": "code",
   "execution_count": 7,
   "metadata": {},
   "outputs": [],
   "source": [
    "def adam(cost, params, lr=0.001, epsilon=1e-6):  #no bias correction, T.sqrt if **0.5 not work\n",
    "    grads = T.grad(cost=cost, wrt=params)\n",
    "    updates = []\n",
    "    for p, g in zip(params, grads):\n",
    "        m=theano.shared(p.get_value()* 0.)\n",
    "        v=theano.shared(p.get_value()* 0.)\n",
    "        mc = beta1*m + (1-beta1)*grad(x)\n",
    "        vc = beta2*v + (1-beta2)*grad(x)**2\n",
    "        updates.append((m,mc))\n",
    "        updates.append((v,vc))\n",
    "        updates.append((p, p - lr * mc/(epsilon+vc**0.5)))\n",
    "    return updates"
   ]
  },
  {
   "cell_type": "code",
   "execution_count": 8,
   "metadata": {},
   "outputs": [],
   "source": [
    "def RMSprop(cost, params, lr=0.001, beta=0.9,epsilon=1e-6):\n",
    "    grads = T.grad(cost=cost, wrt=params)\n",
    "    updates = []\n",
    "    for p, g in zip(params, grads):\n",
    "        v= theano.shared(p.get_value() * 0.)\n",
    "        vc = beta*v + (1-beta)*g**2\n",
    "        updates.append((v,vc))\n",
    "        updates.append((p, p - lr * g/(epsilon+vc**(0.5))))\n",
    "    return updates"
   ]
  },
  {
   "cell_type": "code",
   "execution_count": 9,
   "metadata": {},
   "outputs": [],
   "source": [
    "import pickle, gzip\n",
    "f = gzip.open('mnist.pkl.gz','rb')\n",
    "train_set, valid_set, test_set = pickle.load(f,encoding='latin-1')\n",
    "f.close()"
   ]
  },
  {
   "cell_type": "code",
   "execution_count": 10,
   "metadata": {},
   "outputs": [],
   "source": [
    "train_set[0][train_set[0]>=0.5]=1\n",
    "train_set[0][train_set[0]<0.5]=0"
   ]
  },
  {
   "cell_type": "code",
   "execution_count": 11,
   "metadata": {},
   "outputs": [],
   "source": [
    "valid_set[0][valid_set[0]>=0.5]=1\n",
    "valid_set[0][valid_set[0]<0.5]=0"
   ]
  },
  {
   "cell_type": "code",
   "execution_count": 12,
   "metadata": {},
   "outputs": [],
   "source": [
    "test_set[0][test_set[0]>=0.5]=1\n",
    "test_set[0][test_set[0]<0.5]=0"
   ]
  },
  {
   "cell_type": "code",
   "execution_count": 13,
   "metadata": {},
   "outputs": [],
   "source": [
    "x_train=theano.function([], T.concatenate([train_set[0], valid_set[0]]))()"
   ]
  },
  {
   "cell_type": "code",
   "execution_count": 14,
   "metadata": {},
   "outputs": [],
   "source": [
    "x_test = theano.function([], theano.shared(test_set[0]))()"
   ]
  },
  {
   "cell_type": "code",
   "execution_count": 25,
   "metadata": {},
   "outputs": [],
   "source": [
    "n_hidden = 100 # the size of hidden layers in MLP\n",
    "n_latent = 2 # the dimension of z\n",
    "n_input = x_train.shape[1] # the dimension of x's feature space\n",
    "batch_size = 100\n",
    "n_epochs = 10000"
   ]
  },
  {
   "cell_type": "code",
   "execution_count": 26,
   "metadata": {},
   "outputs": [],
   "source": [
    "def init_w(shape):\n",
    "    x = np.random.randn(*shape)\n",
    "    float_x = np.asarray(x * 0.01, dtype=theano.config.floatX)\n",
    "    return theano.shared(float_x)"
   ]
  },
  {
   "cell_type": "code",
   "execution_count": 27,
   "metadata": {},
   "outputs": [],
   "source": [
    "# Parameters\n",
    "# Gaussian MLP weights and biases (encoder)\n",
    "#initialize \\phi \n",
    "\n",
    "b3 = init_w((n_hidden, ))\n",
    "b2 = init_w((n_latent, ))\n",
    "b1 = init_w((n_latent, ))\n",
    "\n",
    "\n",
    "W3 = init_w((n_input, n_hidden))\n",
    "W2 = init_w((n_hidden, n_latent))\n",
    "W1 = init_w((n_hidden, n_latent))\n"
   ]
  },
  {
   "cell_type": "code",
   "execution_count": 28,
   "metadata": {},
   "outputs": [],
   "source": [
    "# Gaussian Encoder\n",
    "x = T.matrix(\"x\")\n",
    "h_encoder = T.tanh(T.dot(x, W3) + b3)\n",
    "mu = T.dot(h_encoder, W1) + b1\n",
    "log_sig2 = T.dot(h_encoder, W2) + b2\n",
    "# This expression is simple (not an expectation) because we're using normal priors and posteriors\n",
    "DKL = (1.0 + log_sig2 - mu**2 - T.exp(log_sig2)).sum(axis = 1)/2.0"
   ]
  },
  {
   "cell_type": "code",
   "execution_count": 29,
   "metadata": {},
   "outputs": [],
   "source": [
    "# Bernoulli MLP weights and biases (decoder)\n",
    "bernoulli_b1 = init_w((n_hidden, ))\n",
    "bernoulli_b2 = init_w((n_input, ))\n",
    "\n",
    "bernoulli_W1 = init_w((n_latent, n_hidden))\n",
    "bernoulli_W2 = init_w((n_hidden, n_input))"
   ]
  },
  {
   "cell_type": "code",
   "execution_count": 30,
   "metadata": {},
   "outputs": [],
   "source": [
    "# Bernoulli Decoder\n",
    "std_normal = T.matrix(\"std_normal\") \n",
    "z = mu + T.sqrt(T.exp(log_sig2))*std_normal\n",
    "h_decoder = T.tanh(T.dot(z, bernoulli_W1) + bernoulli_b1)\n",
    "y = T.nnet.sigmoid(T.dot(h_decoder, bernoulli_W2) + bernoulli_b2)\n",
    "log_likelihood = -T.nnet.binary_crossentropy(y, x).sum(axis = 1)\n"
   ]
  },
  {
   "cell_type": "code",
   "execution_count": 31,
   "metadata": {},
   "outputs": [],
   "source": [
    "# Only the weight matrices W will be regularized (weight decay)\n",
    "W = [W3, W1, W2, bernoulli_W1, bernoulli_W2]\n",
    "b = [b3, b1, b2, bernoulli_b1, bernoulli_b2]\n",
    "params = W + b"
   ]
  },
  {
   "cell_type": "code",
   "execution_count": 32,
   "metadata": {},
   "outputs": [],
   "source": [
    "# Our lb and cost\n",
    "lower_bound = (DKL + log_likelihood).mean()\n",
    "cost = -lower_bound"
   ]
  },
  {
   "cell_type": "code",
   "execution_count": 33,
   "metadata": {},
   "outputs": [],
   "source": [
    "updates = adagrad(cost, params, lr=0.02)"
   ]
  },
  {
   "cell_type": "code",
   "execution_count": 34,
   "metadata": {},
   "outputs": [],
   "source": [
    "train_model = theano.function(inputs=[x, std_normal], \n",
    "                              outputs=cost, \n",
    "                              updates=updates,\n",
    "                              mode='FAST_RUN',\n",
    "                              allow_input_downcast=True)"
   ]
  },
  {
   "cell_type": "code",
   "execution_count": 35,
   "metadata": {},
   "outputs": [],
   "source": [
    "'''adagrad optimizer with latent variable z dimension of 2'''\n",
    "training = []\n",
    "for i in range(n_epochs):\n",
    "    minibatch_train = [ x_train[j] for j in np.random.randint(0,x_train.shape[0],batch_size) ]\n",
    "\n",
    "    train_cost = train_model(minibatch_train, np.random.normal(size = (batch_size, n_latent)))\n",
    "    \n",
    "    training.append(train_cost)"
   ]
  },
  {
   "cell_type": "code",
   "execution_count": 37,
   "metadata": {},
   "outputs": [
    {
     "data": {
      "image/png": "[encoded data removed]",
      "text/plain": [
       "<Figure size 432x288 with 1 Axes>"
      ]
     },
     "metadata": {},
     "output_type": "display_data"
    }
   ],
   "source": [
    "'''plot lower bound of adagrad 2D z'''\n",
    "lb=[-i for i in training]\n",
    "plt.ylabel(\"-Lower bound\")\n",
    "plt.xlabel(\"Minibatch (\" + str(batch_size) + \" samples)\")\n",
    "plt.plot(lb[500:])\n",
    "plt.show()"
   ]
  },
  {
   "cell_type": "code",
   "execution_count": 84,
   "metadata": {},
   "outputs": [],
   "source": [
    "updates = adagrad(cost, params, lr=0.02)"
   ]
  },
  {
   "cell_type": "code",
   "execution_count": 85,
   "metadata": {},
   "outputs": [],
   "source": [
    "train_model_likelihood = theano.function(inputs=[x, std_normal], \n",
    "                              outputs=log_likelihood.mean(), \n",
    "                              updates=updates,\n",
    "                              mode='FAST_RUN',\n",
    "                              allow_input_downcast=True)"
   ]
  },
  {
   "cell_type": "code",
   "execution_count": 86,
   "metadata": {},
   "outputs": [],
   "source": [
    "training_likelihood_z10 = []\n",
    "for i in range(n_epochs):\n",
    "    minibatch_train = [ x_train[j] for j in np.random.randint(0,x_train.shape[0],batch_size) ]\n",
    "    \n",
    "    likelihood = train_model_likelihood(minibatch_train, np.random.normal(size = (batch_size, n_latent)))\n",
    "    \n",
    "    training_likelihood_z10.append(likelihood)"
   ]
  },
  {
   "cell_type": "code",
   "execution_count": 87,
   "metadata": {},
   "outputs": [
    {
     "data": {
      "image/png": "[encoded data removed]",
      "text/plain": [
       "<Figure size 432x288 with 1 Axes>"
      ]
     },
     "metadata": {},
     "output_type": "display_data"
    }
   ],
   "source": [
    "'''plot loglikelihood of adagrad 2D z'''\n",
    "plt.ylabel(\"Log_likelihood\")\n",
    "plt.xlabel(\"Minibatch (\" + str(batch_size) + \" samples)\")\n",
    "plt.plot(training_likelihood_z10)\n",
    "plt.show()"
   ]
  },
  {
   "cell_type": "code",
   "execution_count": null,
   "metadata": {},
   "outputs": [],
   "source": [
    "'''Repeat with experiments of z dimension of 3,5,10'''"
   ]
  },
  {
   "cell_type": "code",
   "execution_count": 114,
   "metadata": {},
   "outputs": [
    {
     "data": {
      "image/png": "[encoded data removed]",
      "text/plain": [
       "<Figure size 432x288 with 1 Axes>"
      ]
     },
     "metadata": {},
     "output_type": "display_data"
    }
   ],
   "source": [
    "plt.ylabel(\"Log_likelihood\")\n",
    "plt.xlabel(\"Minibatch (\" + str(batch_size) + \" samples)\")\n",
    "plt.plot(training_likelihood_z2,'blue',label='N_z=2')\n",
    "plt.plot(training_likelihood_z3,'orange',label='N_z=3')\n",
    "plt.plot(training_likelihood_z5,'green',label='N_z=5')\n",
    "plt.plot(training_likelihood_z10,'darkred',label='N_z=10')\n",
    "plt.legend(loc='lower right', bbox_to_anchor=(1, 0))\n",
    "plt.ylim(-300, )\n",
    "plt.savefig('train_log_likelihood.pdf', dpi=300)\n",
    "plt.show()"
   ]
  },
  {
   "cell_type": "code",
   "execution_count": 115,
   "metadata": {},
   "outputs": [
    {
     "data": {
      "image/png": "[encoded data removed]",
      "text/plain": [
       "<Figure size 432x288 with 1 Axes>"
      ]
     },
     "metadata": {},
     "output_type": "display_data"
    }
   ],
   "source": [
    "plt.ylabel(\"Lower bound\")\n",
    "plt.xlabel(\"Minibatch (\" + str(batch_size) + \" samples)\")\n",
    "plt.plot(-np.array(training_z2),'blue',label='N_z=2')\n",
    "plt.plot(-np.array(training_z3),'orange',label='N_z=3')\n",
    "plt.plot(-np.array(training_z5),'green', label='N_z=5')\n",
    "plt.plot(-np.array(training_z10),'darkred',label='N_z=10')\n",
    "plt.legend(loc='lower right', bbox_to_anchor=(1, 0))\n",
    "plt.ylim(-300, )\n",
    "plt.savefig('train_lower_bound.pdf', dpi=300)\n",
    "plt.show()"
   ]
  },
  {
   "cell_type": "code",
   "execution_count": null,
   "metadata": {},
   "outputs": [],
   "source": [
    "'''Test set reconstruction with adagrad and Nz=2 learned model'''"
   ]
  },
  {
   "cell_type": "code",
   "execution_count": 40,
   "metadata": {},
   "outputs": [],
   "source": [
    "# Extract estimated parameters (W, b)\n",
    "est_W3 = updates[1][0].get_value()\n",
    "est_W1 = updates[3][0].get_value()\n",
    "est_W2 = updates[5][0].get_value()\n",
    "est_b_W1 = updates[7][0].get_value()\n",
    "est_b_W2 = updates[9][0].get_value()\n",
    "\n",
    "est_b3 = updates[11][0].get_value()\n",
    "est_b1 = updates[13][0].get_value()\n",
    "est_b2 = updates[15][0].get_value()\n",
    "est_b_b1 = updates[17][0].get_value()\n",
    "est_b_b2 = updates[19][0].get_value()"
   ]
  },
  {
   "cell_type": "code",
   "execution_count": 41,
   "metadata": {},
   "outputs": [],
   "source": [
    "import numba\n",
    "from numba import jit\n",
    "\n",
    "@jit\n",
    "def sigmoid(x):\n",
    "    return 1 / (1 + np.exp(-x))"
   ]
  },
  {
   "cell_type": "code",
   "execution_count": 42,
   "metadata": {},
   "outputs": [],
   "source": [
    "'''Gaussian Encoder'''\n",
    "est_h_encoder = np.tanh(np.dot(x_test, est_W3) + est_b3)\n",
    "phi_mu = np.dot(est_h_encoder, est_W1) + est_b1\n",
    "phi_log_sig2 = np.dot(est_h_encoder, est_W2) + est_b2"
   ]
  },
  {
   "cell_type": "code",
   "execution_count": 43,
   "metadata": {},
   "outputs": [],
   "source": [
    "'''sample z'''\n",
    "a, b =phi_log_sig2.shape \n",
    "z_ = phi_mu + np.sqrt(np.exp(phi_log_sig2))*np.random.randn(a, b)"
   ]
  },
  {
   "cell_type": "code",
   "execution_count": 44,
   "metadata": {},
   "outputs": [],
   "source": [
    "'''Bernoulli Decoder'''\n",
    "est_h_decoder = np.tanh(np.dot(z_, est_b_W1) + est_b_b1)\n",
    "c = np.dot(est_h_decoder, est_b_W2)\n",
    "y_ = sigmoid(c + est_b_b2)"
   ]
  },
  {
   "cell_type": "code",
   "execution_count": 45,
   "metadata": {},
   "outputs": [],
   "source": [
    "'''Prediction'''\n",
    "x_new = np.random.binomial(1,y_,[10000,784])"
   ]
  },
  {
   "cell_type": "code",
   "execution_count": 46,
   "metadata": {},
   "outputs": [
    {
     "data": {
      "image/png": "[encoded data removed]",
      "text/plain": [
       "<Figure size 432x288 with 10 Axes>"
      ]
     },
     "metadata": {},
     "output_type": "display_data"
    }
   ],
   "source": [
    "'''Visualize Original Test set'''\n",
    "x_test = x_test.reshape([10000, 28, 28])\n",
    "for i in range(10):\n",
    "    plt.subplot(2,5,i+1)\n",
    "    plt.imshow(x_test[i], cmap='gray')\n",
    "    plt.xticks([])\n",
    "    plt.yticks([])\n",
    "plt.tight_layout()"
   ]
  },
  {
   "cell_type": "code",
   "execution_count": 47,
   "metadata": {},
   "outputs": [
    {
     "data": {
      "image/png": "[encoded data removed]",
      "text/plain": [
       "<Figure size 432x288 with 10 Axes>"
      ]
     },
     "metadata": {},
     "output_type": "display_data"
    }
   ],
   "source": [
    "'''Visualize reconstructed test set'''\n",
    "x_new = x_new.reshape([10000, 28, 28])\n",
    "for i in range(10):\n",
    "    plt.subplot(2,5,i+1)\n",
    "    plt.imshow(x_new[i], cmap='gray')\n",
    "    plt.xticks([])\n",
    "    plt.yticks([])\n",
    "plt.tight_layout()"
   ]
  }
 ],
 "metadata": {
  "kernelspec": {
   "display_name": "Python 3",
   "language": "python",
   "name": "python3"
  },
  "language_info": {
   "codemirror_mode": {
    "name": "ipython",
    "version": 3
   },
   "file_extension": ".py",
   "mimetype": "text/x-python",
   "name": "python",
   "nbconvert_exporter": "python",
   "pygments_lexer": "ipython3",
   "version": "3.6.5"
  }
 },
 "nbformat": 4,
 "nbformat_minor": 2
}
